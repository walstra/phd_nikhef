{
 "cells": [
  {
   "cell_type": "markdown",
   "metadata": {},
   "source": [
    "# Histogramming and fitting"
   ]
  },
  {
   "cell_type": "markdown",
   "metadata": {},
   "source": [
    "The aim of this exercise is to try something that is very commonly done: taking some data, making a histogram, and then fitting it. You can work from this notebook, since notebooks aren't just for a bunch of code but can also contain text, headers, etc."
   ]
  },
  {
   "cell_type": "markdown",
   "metadata": {},
   "source": [
    "## Initialization"
   ]
  },
  {
   "cell_type": "markdown",
   "metadata": {},
   "source": [
    "There are some things that we are going to need for sure: numpy, matplotlib, scipy. Best put them all at the start of your notebook. Write the imports in the following cell:"
   ]
  },
  {
   "cell_type": "code",
   "execution_count": 1,
   "metadata": {
    "collapsed": true
   },
   "outputs": [],
   "source": [
    "import numpy as np\n",
    "import scipy\n",
    "from scipy.optimize import curve_fit\n",
    "import matplotlib.pyplot as plt\n",
    "%matplotlib inline"
   ]
  },
  {
   "cell_type": "markdown",
   "metadata": {},
   "source": [
    "Neat little trick: you can stow away your imports in a separate notebook, and run it from this one. This is done with something called 'cell magic' (no joke). Try it!"
   ]
  },
  {
   "cell_type": "code",
   "execution_count": 2,
   "metadata": {
    "collapsed": false
   },
   "outputs": [
    {
     "name": "stdout",
     "output_type": "stream",
     "text": [
      "Imports done.\n"
     ]
    }
   ],
   "source": [
    "%run 'def.ipynb'"
   ]
  },
  {
   "cell_type": "markdown",
   "metadata": {},
   "source": [
    "## Reading in data"
   ]
  },
  {
   "cell_type": "markdown",
   "metadata": {},
   "source": [
    "There is a text file in this folder called 'data.txt'. Read it in with your favorite package. If this costs you more than one line, you're being inefficient."
   ]
  },
  {
   "cell_type": "code",
   "execution_count": 3,
   "metadata": {
    "collapsed": true
   },
   "outputs": [],
   "source": [
    "data = np.loadtxt('data.txt')"
   ]
  },
  {
   "cell_type": "markdown",
   "metadata": {},
   "source": [
    "## Plot a histogram"
   ]
  },
  {
   "cell_type": "markdown",
   "metadata": {},
   "source": [
    "Now use matplotlib to plot a histogram. Try the following arguments (for example) range=(-1, 2), bins=100, histtype='step', normed=True. See what the arguments do and find your best-looking plot"
   ]
  },
  {
   "cell_type": "code",
   "execution_count": 4,
   "metadata": {
    "collapsed": false
   },
   "outputs": [
    {
     "data": {
      "image/png": "[encoded data removed]",
      "text/plain": [
       "<matplotlib.figure.Figure at 0x82b1780>"
      ]
     },
     "metadata": {},
     "output_type": "display_data"
    }
   ],
   "source": [
    "plt.hist(data, histtype='step', bins=40, range=(-1, 2))\n",
    "plt.xlabel('x')\n",
    "plt.ylabel('Counts')\n",
    "plt.show()"
   ]
  },
  {
   "cell_type": "markdown",
   "metadata": {},
   "source": [
    "## Guessing the values"
   ]
  },
  {
   "cell_type": "markdown",
   "metadata": {},
   "source": [
    "Needless to say, the distribution looks Gaussian. A good starting point for a fit is often just to plot the fit function on top of the histogram. Define a fit function and try a few values until you find some good starting values."
   ]
  },
  {
   "cell_type": "code",
   "execution_count": 5,
   "metadata": {
    "collapsed": true
   },
   "outputs": [],
   "source": [
    "def gauss(x, A, mu, sigma):\n",
    "    return A * np.exp(-(x-mu)**2/(2 * sigma**2))"
   ]
  },
  {
   "cell_type": "code",
   "execution_count": 6,
   "metadata": {
    "collapsed": false
   },
   "outputs": [
    {
     "data": {
      "image/png": "[encoded data removed]",
      "text/plain": [
       "<matplotlib.figure.Figure at 0x82dc390>"
      ]
     },
     "metadata": {},
     "output_type": "display_data"
    }
   ],
   "source": [
    "plt.hist(data, histtype='step', bins=40, range=(-1, 2), label='Data')\n",
    "xplot = np.linspace(-1, 2, 100)\n",
    "plt.plot(xplot, gauss(xplot, 25, 0.5, 0.5), label='Guess')\n",
    "plt.xlabel('x')\n",
    "plt.ylabel('Counts')\n",
    "plt.legend()\n",
    "plt.show()"
   ]
  },
  {
   "cell_type": "markdown",
   "metadata": {},
   "source": [
    "## Extracting the data"
   ]
  },
  {
   "cell_type": "markdown",
   "metadata": {},
   "source": [
    "In Python, you don't directly fit the histogram, but you rather take the data from it first and then fit that. Extract the data from the histogram with the following lines:"
   ]
  },
  {
   "cell_type": "code",
   "execution_count": 7,
   "metadata": {
    "collapsed": false
   },
   "outputs": [
    {
     "data": {
      "image/png": "[encoded data removed]",
      "text/plain": [
       "<matplotlib.figure.Figure at 0x8372400>"
      ]
     },
     "metadata": {},
     "output_type": "display_data"
    }
   ],
   "source": [
    "counts, bin_edges, _ = plt.hist(data, histtype='step', bins=40, range=(-1, 2), label='Data')\n",
    "plt.xlabel('x')\n",
    "plt.ylabel('Counts')\n",
    "plt.legend()\n",
    "plt.show()"
   ]
  },
  {
   "cell_type": "markdown",
   "metadata": {},
   "source": [
    "If you don't want to *show* the histogram, use np.histogram instead. It has the same syntax, but doesn't take all the plot style arguments."
   ]
  },
  {
   "cell_type": "code",
   "execution_count": 8,
   "metadata": {
    "collapsed": true
   },
   "outputs": [],
   "source": [
    "counts, bin_edges = np.histogram(data, bins=40, range=(-1, 2))"
   ]
  },
  {
   "cell_type": "markdown",
   "metadata": {},
   "source": [
    "By default, the bin *edges* are extracted. For a fit, we want to have the bin *centers*. Note that this list is one element shorter. Extract the bin centers."
   ]
  },
  {
   "cell_type": "code",
   "execution_count": 9,
   "metadata": {
    "collapsed": false
   },
   "outputs": [],
   "source": [
    "bin_centers = 0.5 * (bin_edges[:-1] + bin_edges[1:])"
   ]
  },
  {
   "cell_type": "markdown",
   "metadata": {},
   "source": [
    "As a check, plot the counts versus the bin_centers and see that it resembles the histogram. If you want, you can do 'ls=steps' or 'ls=steps_mid' for a more histogrammy look."
   ]
  },
  {
   "cell_type": "code",
   "execution_count": 10,
   "metadata": {
    "collapsed": false
   },
   "outputs": [
    {
     "data": {
      "image/png": "[encoded data removed]",
      "text/plain": [
       "<matplotlib.figure.Figure at 0x8a140b8>"
      ]
     },
     "metadata": {},
     "output_type": "display_data"
    }
   ],
   "source": [
    "plt.plot(bin_centers, counts, label='Normal')\n",
    "plt.plot(bin_centers, counts, ls='steps', label='Steps')\n",
    "plt.plot(bin_centers, counts, ls='steps-mid', label='Steps-mid')\n",
    "plt.xlabel('x')\n",
    "plt.ylabel('Counts')\n",
    "plt.legend()\n",
    "plt.show()"
   ]
  },
  {
   "cell_type": "markdown",
   "metadata": {},
   "source": [
    "## Fitting the extracted histogram"
   ]
  },
  {
   "cell_type": "markdown",
   "metadata": {},
   "source": [
    "Next, fit your Gaussian function with curve_fit:"
   ]
  },
  {
   "cell_type": "code",
   "execution_count": 11,
   "metadata": {
    "collapsed": false
   },
   "outputs": [],
   "source": [
    "popt, pcov = curve_fit(gauss, bin_centers, counts, p0=[25, 0.5, 0.5])"
   ]
  },
  {
   "cell_type": "markdown",
   "metadata": {},
   "source": [
    "For documentation on curve_fit, execute the following cell:"
   ]
  },
  {
   "cell_type": "code",
   "execution_count": 12,
   "metadata": {
    "collapsed": false
   },
   "outputs": [],
   "source": [
    "curve_fit?"
   ]
  },
  {
   "cell_type": "markdown",
   "metadata": {},
   "source": [
    "After executing this cell, you get some values out:"
   ]
  },
  {
   "cell_type": "code",
   "execution_count": 13,
   "metadata": {
    "collapsed": false
   },
   "outputs": [
    {
     "name": "stdout",
     "output_type": "stream",
     "text": [
      "[ 26.4723843    0.56813946   0.45771336]\n"
     ]
    }
   ],
   "source": [
    "print(popt)"
   ]
  },
  {
   "cell_type": "markdown",
   "metadata": {},
   "source": [
    "## The uncertainties"
   ]
  },
  {
   "cell_type": "markdown",
   "metadata": {},
   "source": [
    "These are the optimized values. But wait! Did we put the errors in somewhere? No, so curve_fit just guesses them. In fact, we do know the bin-by-bin errors, since we're doing a counting experiment (yay particle physics!). The error on the number of counts is just the square root, in the limit of large N. Let's extract the error on the counts."
   ]
  },
  {
   "cell_type": "code",
   "execution_count": 14,
   "metadata": {
    "collapsed": true
   },
   "outputs": [],
   "source": [
    "counts_err = np.sqrt(counts)"
   ]
  },
  {
   "cell_type": "markdown",
   "metadata": {},
   "source": [
    "If you have zero counts somewhere, the counts will go zero too and your fitting will fail. Check if there are zeros in your error array."
   ]
  },
  {
   "cell_type": "code",
   "execution_count": 15,
   "metadata": {
    "collapsed": false
   },
   "outputs": [
    {
     "data": {
      "text/plain": [
       "array([ 0.        ,  0.        ,  0.        ,  0.        ,  0.        ,\n",
       "        1.        ,  1.41421356,  1.        ,  2.        ,  2.44948974,\n",
       "        2.82842712,  2.82842712,  3.        ,  3.87298335,  3.74165739,\n",
       "        4.69041576,  4.69041576,  4.69041576,  3.87298335,  4.79583152,\n",
       "        5.        ,  5.65685425,  5.56776436,  5.19615242,  4.12310563,\n",
       "        4.35889894,  4.12310563,  4.        ,  4.        ,  3.16227766,\n",
       "        2.44948974,  1.73205081,  1.41421356,  1.73205081,  1.73205081,\n",
       "        0.        ,  0.        ,  1.        ,  0.        ,  0.        ])"
      ]
     },
     "execution_count": 15,
     "metadata": {},
     "output_type": "execute_result"
    }
   ],
   "source": [
    "counts_err"
   ]
  },
  {
   "cell_type": "markdown",
   "metadata": {},
   "source": [
    "There may or may not be zeros in there. Write a function to replace all zeros in an array with ones. Can you do a one-liner again?"
   ]
  },
  {
   "cell_type": "code",
   "execution_count": 16,
   "metadata": {
    "collapsed": true
   },
   "outputs": [],
   "source": [
    "def replace_zeros(arr):\n",
    "    return (arr == 0) * 1 + arr"
   ]
  },
  {
   "cell_type": "code",
   "execution_count": 17,
   "metadata": {
    "collapsed": false
   },
   "outputs": [],
   "source": [
    "counts_err = replace_zeros(counts_err)"
   ]
  },
  {
   "cell_type": "markdown",
   "metadata": {},
   "source": [
    "Now, refit and check the influence on the result."
   ]
  },
  {
   "cell_type": "code",
   "execution_count": 18,
   "metadata": {
    "collapsed": false
   },
   "outputs": [],
   "source": [
    "popt0, pcov0 = curve_fit(gauss, bin_centers, counts, p0=[25, 0.5, 0.5])\n",
    "popt1, pcov1 = curve_fit(gauss, bin_centers, counts, p0=[25, 0.5, 0.5], sigma=counts_err)"
   ]
  },
  {
   "cell_type": "code",
   "execution_count": 19,
   "metadata": {
    "collapsed": false
   },
   "outputs": [
    {
     "name": "stdout",
     "output_type": "stream",
     "text": [
      "No   errs:  [ 26.4723843    0.56813946   0.45771336]\n",
      "With errs:  [ 26.18827808   0.55109063   0.43552112]\n"
     ]
    }
   ],
   "source": [
    "print('No   errs: ', popt0)\n",
    "print('With errs: ', popt1)"
   ]
  },
  {
   "cell_type": "markdown",
   "metadata": {},
   "source": [
    "Scipy also returns the covariance matrix, pcov. If the errors are not correlated (check this for any serious analysis, but assume here), this is how you get the errors:"
   ]
  },
  {
   "cell_type": "code",
   "execution_count": 20,
   "metadata": {
    "collapsed": true
   },
   "outputs": [],
   "source": [
    "perr = np.sqrt(np.diag(pcov1))"
   ]
  },
  {
   "cell_type": "markdown",
   "metadata": {},
   "source": [
    "Hey, time to print your result!"
   ]
  },
  {
   "cell_type": "code",
   "execution_count": 21,
   "metadata": {
    "collapsed": false
   },
   "outputs": [
    {
     "name": "stdout",
     "output_type": "stream",
     "text": [
      "==== My awesome fit! =======\n",
      "A:     26.1883 +- 1.2908\n",
      "mu:    0.5511 +- 0.0180\n",
      "sigma: 0.4355 +- 0.0135\n"
     ]
    }
   ],
   "source": [
    "print('==== My awesome fit! =======')\n",
    "print('A:     %.4f +- %.4f' % (popt1[0], perr[0]))\n",
    "print('mu:    %.4f +- %.4f' % (popt1[1], perr[1]))\n",
    "print('sigma: %.4f +- %.4f' % (popt1[2], perr[2]))"
   ]
  },
  {
   "cell_type": "markdown",
   "metadata": {},
   "source": [
    "## Bins, fit range, and your result..."
   ]
  },
  {
   "cell_type": "markdown",
   "metadata": {},
   "source": [
    "Well, wasn't that easy? But wait, *you* put in the number of bins and the histogram range. Doesn't that influence your result? Well, maybe. Let's try two methods. First, let's vary the fit range and number of bins and see what it does to the results. After that, we can try something a little more advanced: unbinned fits!"
   ]
  },
  {
   "cell_type": "markdown",
   "metadata": {},
   "source": [
    "Write a function that does all you've just done: extract the histogram, bin it, get the data, fit it, return the parameters. Be sure to put comments in, because this will be a longer function."
   ]
  },
  {
   "cell_type": "code",
   "execution_count": 22,
   "metadata": {
    "collapsed": false
   },
   "outputs": [],
   "source": [
    "def fit_it(arr, hist_range, hist_bins, plot_it=False):\n",
    "    # Make a histogram and extract the data\n",
    "    counts, bin_edges = np.histogram(data, bins=hist_bins, range=hist_range)\n",
    "    \n",
    "    # Get the bin centers\n",
    "    bin_centers = 0.5 * (bin_edges[:-1] + bin_edges[1:])\n",
    "    \n",
    "    # Get the errors\n",
    "    counts_err = np.sqrt(counts)\n",
    "    \n",
    "    # Replace with ones if zeros are found\n",
    "    counts_err = replace_zeros(counts_err)\n",
    "    \n",
    "    # Fit it\n",
    "    popt, pcov = curve_fit(gauss, bin_centers, counts, p0=[25, 0.5, 0.5], sigma=counts_err)\n",
    "    \n",
    "    # Optional: plot the fitted gaussian\n",
    "    if plot_it:\n",
    "        plt.hist(data, bins=hist_bins, range=hist_range)\n",
    "        xplot = np.linspace(*hist_range, num=50)\n",
    "        plt.plot(xplot, gauss(xplot, *popt))\n",
    "        plt.show()\n",
    "        \n",
    "    return popt"
   ]
  },
  {
   "cell_type": "markdown",
   "metadata": {},
   "source": [
    "Next, vary the number of bins and see what happens."
   ]
  },
  {
   "cell_type": "code",
   "execution_count": 23,
   "metadata": {
    "collapsed": false
   },
   "outputs": [],
   "source": [
    "try_bins = [10, 20, 30, 50, 70, 100] # List or array of the number of bins you'd like to try\n",
    "popts = np.array([fit_it(data, hist_range=(-0.6, 1.8), hist_bins=hist_bins) for hist_bins in try_bins])"
   ]
  },
  {
   "cell_type": "markdown",
   "metadata": {},
   "source": [
    "Check what happens to the parameters."
   ]
  },
  {
   "cell_type": "code",
   "execution_count": 24,
   "metadata": {
    "collapsed": false
   },
   "outputs": [
    {
     "data": {
      "image/png": "[encoded data removed]",
      "text/plain": [
       "<matplotlib.figure.Figure at 0x8b672b0>"
      ]
     },
     "metadata": {},
     "output_type": "display_data"
    },
    {
     "data": {
      "image/png": "[encoded data removed]",
      "text/plain": [
       "<matplotlib.figure.Figure at 0x8bf46d8>"
      ]
     },
     "metadata": {},
     "output_type": "display_data"
    },
    {
     "data": {
      "image/png": "[encoded data removed]",
      "text/plain": [
       "<matplotlib.figure.Figure at 0x8bf1ac8>"
      ]
     },
     "metadata": {},
     "output_type": "display_data"
    }
   ],
   "source": [
    "plt.scatter(try_bins, popts[:, 0])\n",
    "plt.ylabel('A')\n",
    "plt.xlabel('Nbins')\n",
    "plt.show()\n",
    "\n",
    "plt.scatter(try_bins, popts[:, 1])\n",
    "plt.ylabel('mu')\n",
    "plt.xlabel('Nbins')\n",
    "plt.show()\n",
    "\n",
    "plt.scatter(try_bins, popts[:, 2])\n",
    "plt.ylabel('sigma')\n",
    "plt.xlabel('Nbins')\n",
    "plt.show()"
   ]
  },
  {
   "cell_type": "markdown",
   "metadata": {},
   "source": [
    "Now do the same thing for the range."
   ]
  },
  {
   "cell_type": "code",
   "execution_count": 25,
   "metadata": {
    "collapsed": false
   },
   "outputs": [],
   "source": [
    "halfranges = [ 0.4, 0.6, 0.8, 1.2, 1.6]\n",
    "try_range = [(0.5 - halfrange, 0.5 + halfrange) for halfrange in halfranges ]\n",
    "popts = np.array([fit_it(data, hist_range=hist_range, hist_bins=100) for hist_range in try_range])"
   ]
  },
  {
   "cell_type": "code",
   "execution_count": 26,
   "metadata": {
    "collapsed": false
   },
   "outputs": [
    {
     "data": {
      "image/png": "[encoded data removed]",
      "text/plain": [
       "<matplotlib.figure.Figure at 0x8b58710>"
      ]
     },
     "metadata": {},
     "output_type": "display_data"
    },
    {
     "data": {
      "image/png": "[encoded data removed]",
      "text/plain": [
       "<matplotlib.figure.Figure at 0x82f5b38>"
      ]
     },
     "metadata": {},
     "output_type": "display_data"
    },
    {
     "data": {
      "image/png": "[encoded data removed]",
      "text/plain": [
       "<matplotlib.figure.Figure at 0x82dacc0>"
      ]
     },
     "metadata": {},
     "output_type": "display_data"
    }
   ],
   "source": [
    "plt.scatter(halfranges, popts[:, 0])\n",
    "plt.ylabel('A')\n",
    "plt.xlabel('Half of fit range')\n",
    "plt.show()\n",
    "\n",
    "plt.scatter(halfranges, popts[:, 1])\n",
    "plt.ylabel('mu')\n",
    "plt.xlabel('Half of fit range')\n",
    "plt.show()\n",
    "\n",
    "plt.scatter(halfranges, popts[:, 2])\n",
    "plt.ylabel('sigma')\n",
    "plt.xlabel('Half of fit range')\n",
    "plt.show()"
   ]
  },
  {
   "cell_type": "markdown",
   "metadata": {},
   "source": [
    "Based on what you have just seen, do you think the uncertainties you got before are OK?"
   ]
  },
  {
   "cell_type": "code",
   "execution_count": 27,
   "metadata": {
    "collapsed": false
   },
   "outputs": [
    {
     "name": "stdout",
     "output_type": "stream",
     "text": [
      "[ 1.29084315  0.01803417  0.01348479]\n"
     ]
    }
   ],
   "source": [
    "print(perr)"
   ]
  },
  {
   "cell_type": "markdown",
   "metadata": {},
   "source": [
    "To me they seem a little small."
   ]
  },
  {
   "cell_type": "markdown",
   "metadata": {},
   "source": [
    "## Unbinned fits"
   ]
  },
  {
   "cell_type": "markdown",
   "metadata": {},
   "source": [
    "Unbinned fits are a little more tricky: you don't get the nice curve_fit routine, but on the plus side: no dependence on fit range, no stupid unphysical zero errors and you can impress everyone by saying 'unbinned fit'. Let's go!"
   ]
  },
  {
   "cell_type": "markdown",
   "metadata": {},
   "source": [
    "Fitting is the process of minimizing the negative log likelihood. Wow. For this, we define the probability density function: in our case, just the Gaussian again, but normalized. Define it here."
   ]
  },
  {
   "cell_type": "code",
   "execution_count": 28,
   "metadata": {
    "collapsed": true
   },
   "outputs": [],
   "source": [
    "def gauss_norm(x, mu, sigma):\n",
    "    return 1/(sigma * np.sqrt(2 * np.pi)) * gauss(x, 1, mu, sigma)"
   ]
  },
  {
   "cell_type": "markdown",
   "metadata": {},
   "source": [
    "Here is the log likelihood:"
   ]
  },
  {
   "cell_type": "code",
   "execution_count": 29,
   "metadata": {
    "collapsed": true
   },
   "outputs": [],
   "source": [
    "def loglikelihood(arr, mu, sigma):\n",
    "    return np.log(gauss_norm(arr, mu, sigma))"
   ]
  },
  {
   "cell_type": "markdown",
   "metadata": {},
   "source": [
    "And this is what we wish to minimize:"
   ]
  },
  {
   "cell_type": "code",
   "execution_count": 30,
   "metadata": {
    "collapsed": true
   },
   "outputs": [],
   "source": [
    "def neglog(mu, sigma):\n",
    "    return -np.sum(loglikelihood(data, mu, sigma))"
   ]
  },
  {
   "cell_type": "markdown",
   "metadata": {},
   "source": [
    "Check the behavior: if we fix sigma to (approximately) the right value and vary mu, what does it do?"
   ]
  },
  {
   "cell_type": "code",
   "execution_count": 31,
   "metadata": {
    "collapsed": true
   },
   "outputs": [],
   "source": [
    "sigma_fix = 0.5\n",
    "mu_guesses = np.linspace(0, 1, 11) #\n",
    "values = [neglog(mu, sigma_fix) for mu in mu_guesses]"
   ]
  },
  {
   "cell_type": "code",
   "execution_count": 32,
   "metadata": {
    "collapsed": false
   },
   "outputs": [
    {
     "data": {
      "image/png": "[encoded data removed]",
      "text/plain": [
       "<matplotlib.figure.Figure at 0x8315208>"
      ]
     },
     "metadata": {},
     "output_type": "display_data"
    }
   ],
   "source": [
    "plt.scatter(mu_guesses, values)\n",
    "plt.xlabel('Mu guess')\n",
    "plt.ylabel('Negative log likelihood')\n",
    "plt.show()"
   ]
  },
  {
   "cell_type": "markdown",
   "metadata": {},
   "source": [
    "Now use a minimizing routing (scipy.optimize.minimize, for example, or iMinuit if you have it installed) to find the best-fit values."
   ]
  },
  {
   "cell_type": "code",
   "execution_count": 33,
   "metadata": {
    "collapsed": false
   },
   "outputs": [],
   "source": [
    "m = scipy.optimize.minimize(lambda x: neglog(*x), x0=[1, 0.5])"
   ]
  },
  {
   "cell_type": "code",
   "execution_count": 34,
   "metadata": {
    "collapsed": false
   },
   "outputs": [
    {
     "data": {
      "text/plain": [
       "array([ 0.55399221,  0.43569828])"
      ]
     },
     "execution_count": 34,
     "metadata": {},
     "output_type": "execute_result"
    }
   ],
   "source": [
    "m.x"
   ]
  },
  {
   "cell_type": "markdown",
   "metadata": {},
   "source": [
    "## Challenge yourself!"
   ]
  },
  {
   "cell_type": "markdown",
   "metadata": {},
   "source": [
    "If you haven't got enough already, try:\n",
    "  * Limiting the data to see what happens at lower statistics.\n",
    "  * Read the data with uniform background, and modify the fit function to take it into account."
   ]
  },
  {
   "cell_type": "code",
   "execution_count": null,
   "metadata": {
    "collapsed": true
   },
   "outputs": [],
   "source": []
  }
 ],
 "metadata": {
  "kernelspec": {
   "display_name": "Python 3",
   "language": "python",
   "name": "python3"
  },
  "language_info": {
   "codemirror_mode": {
    "name": "ipython",
    "version": 3
   },
   "file_extension": ".py",
   "mimetype": "text/x-python",
   "name": "python",
   "nbconvert_exporter": "python",
   "pygments_lexer": "ipython3",
   "version": "3.4.1"
  }
 },
 "nbformat": 4,
 "nbformat_minor": 0
}
