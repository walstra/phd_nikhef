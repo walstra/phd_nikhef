{
 "cells": [
  {
   "cell_type": "code",
   "execution_count": 5,
   "metadata": {},
   "outputs": [
    {
     "data": {
      "text/html": [
       "<div id=\"glowscript\" class=\"glowscript\"></div>"
      ],
      "text/plain": [
       "<IPython.core.display.HTML object>"
      ]
     },
     "metadata": {},
     "output_type": "display_data"
    },
    {
     "data": {
      "application/javascript": [
       "window.__context = { glowscript_container: $(\"#glowscript\").removeAttr(\"id\")}"
      ],
      "text/plain": [
       "<IPython.core.display.Javascript object>"
      ]
     },
     "metadata": {},
     "output_type": "display_data"
    },
    {
     "name": "stdout",
     "output_type": "stream",
     "text": [
      "ERROR! Session/line number was not unique in database. History logging moved to new session 35\n"
     ]
    }
   ],
   "source": [
    "from __future__ import division, print_function\n",
    "from vpython import *\n",
    "#create scene\n",
    "scene = canvas(title='3D scene')\n",
    "\n",
    "sphere()\n"
   ]
  },
  {
   "cell_type": "code",
   "execution_count": 6,
   "metadata": {},
   "outputs": [
    {
     "data": {
      "text/html": [
       "<div id=\"glowscript\" class=\"glowscript\"></div>"
      ],
      "text/plain": [
       "<IPython.core.display.HTML object>"
      ]
     },
     "metadata": {},
     "output_type": "display_data"
    },
    {
     "data": {
      "application/javascript": [
       "window.__context = { glowscript_container: $(\"#glowscript\").removeAttr(\"id\")}"
      ],
      "text/plain": [
       "<IPython.core.display.Javascript object>"
      ]
     },
     "metadata": {},
     "output_type": "display_data"
    }
   ],
   "source": [
    "import numpy as np\n",
    "from vpython import *\n",
    "\n",
    "#create scene\n",
    "scene = canvas(title='3D scene')\n",
    "\n",
    "\n",
    "sphere1 = sphere(pos = vector(-5,0,0), radius=0.5, color=color.cyan)\n",
    "sphere2 = sphere(pos=vector(0,-1,0), radius=0.5, color =color.red)\n",
    "arr = arrow(pos=sphere1.pos, axis = sphere2.pos-sphere1.pos, color=color.yellow)\n",
    "\n"
   ]
  },
  {
   "cell_type": "code",
   "execution_count": 8,
   "metadata": {},
   "outputs": [
    {
     "data": {
      "text/html": [
       "<div id=\"glowscript\" class=\"glowscript\"></div>"
      ],
      "text/plain": [
       "<IPython.core.display.HTML object>"
      ]
     },
     "metadata": {},
     "output_type": "display_data"
    },
    {
     "data": {
      "application/javascript": [
       "window.__context = { glowscript_container: $(\"#glowscript\").removeAttr(\"id\")}"
      ],
      "text/plain": [
       "<IPython.core.display.Javascript object>"
      ]
     },
     "metadata": {},
     "output_type": "display_data"
    }
   ],
   "source": [
    "import numpy as np\n",
    "from vpython import *\n",
    "#create scene\n",
    "scene = canvas(title='3D scene')\n",
    "\n",
    "\n",
    "ball = sphere()\n",
    "box = box(pos=vec(0,-1,0), width= 4, length =4, height=0.5)\n",
    "trace = curve(radius = 0.2, color = color.green)\n",
    "\n",
    "for i in range(1000):\n",
    "    t = i * 0.1\n",
    "    y = np.sin(t)\n",
    "    ball.pos = vec(t,y,0)\n",
    "    trace.append(ball.pos)\n",
    "    rate(24)\n"
   ]
  },
  {
   "cell_type": "code",
   "execution_count": null,
   "metadata": {},
   "outputs": [
    {
     "data": {
      "text/html": [
       "<div id=\"glowscript\" class=\"glowscript\"></div>"
      ],
      "text/plain": [
       "<IPython.core.display.HTML object>"
      ]
     },
     "metadata": {},
     "output_type": "display_data"
    },
    {
     "data": {
      "application/javascript": [
       "window.__context = { glowscript_container: $(\"#glowscript\").removeAttr(\"id\")}"
      ],
      "text/plain": [
       "<IPython.core.display.Javascript object>"
      ]
     },
     "metadata": {},
     "output_type": "display_data"
    },
    {
     "name": "stdout",
     "output_type": "stream",
     "text": [
      "\n",
      "Click to plot a normalized electric field vector.\n",
      "Vectors are blue if low magnitude, red if high.\n",
      "Right button drag or Ctrl-drag to rotate camera to view scene.\n",
      "Middle button drag or Alt-drag to zoom in or out.\n",
      "  On a two-button mouse, middle is left + right.\n",
      "\n"
     ]
    }
   ],
   "source": [
    "from vpython import *\n",
    "import numpy as np\n",
    "#create scene\n",
    "scene = canvas(title='3D scene')\n",
    "\n",
    "\n",
    "print(\"\"\"\n",
    "Click to plot a normalized electric field vector.\n",
    "Vectors are blue if low magnitude, red if high.\n",
    "Right button drag or Ctrl-drag to rotate camera to view scene.\n",
    "Middle button drag or Alt-drag to zoom in or out.\n",
    "  On a two-button mouse, middle is left + right.\n",
    "\"\"\")\n",
    "\n",
    "ec = 1.6e-19  # electron charge\n",
    "Kcoulomb = 8.8988e9 #Nm^2/coul^2\n",
    "scene.title=\"Electric Field Vectors\"\n",
    "scene.range = 2e-13\n",
    "\n",
    "charges = [ sphere( pos = vec (-1e-13,0,0), Q =  ec, color=color.red, radius = 6e-15 ),\n",
    "            sphere( pos = vec ( 1e-13,0,0), Q = -ec, color=color.blue, radius = 6e-15 ),\n",
    "          ]\n",
    "\n",
    "def getfield(p):\n",
    "    f = vector(0,0,0)\n",
    "    print (charges)\n",
    "    for c in charges:\n",
    "        f = f + (p-c.pos) * 8.988e9 * c.Q / mag(p-c.pos)**3\n",
    "    return f\n",
    "\n",
    "while True:\n",
    "    #p = scene.mouse.getclick().pos\n",
    "    ev = scene.waitfor('click')\n",
    "    if ev.event == 'click':\n",
    "        p = ev.pos\n",
    "\n",
    "    print(p)\n",
    "    f = getfield(p)\n",
    "    m = mag(f)\n",
    "    red = np.maximum( 1-1e17/m, 0 )\n",
    "    blue = np.minimum(   1e17/m, 1 )\n",
    "    if red >= blue:\n",
    "        blue = blue/red\n",
    "        red = 1.0\n",
    "    else:\n",
    "        red = red/blue\n",
    "        blue = 1.0\n",
    "    arrow( pos=p, axis=f * (4e-14/1e17),\n",
    "            shaftwidth = 6e-15,\n",
    "            color=vec (red,0,blue))\n"
   ]
  },
  {
   "cell_type": "code",
   "execution_count": null,
   "metadata": {},
   "outputs": [
    {
     "data": {
      "text/html": [
       "<div id=\"glowscript\" class=\"glowscript\"></div>"
      ],
      "text/plain": [
       "<IPython.core.display.HTML object>"
      ]
     },
     "metadata": {},
     "output_type": "display_data"
    },
    {
     "name": "stdout",
     "output_type": "stream",
     "text": [
      "ERROR! Session/line number was not unique in"
     ]
    },
    {
     "data": {
      "application/javascript": [
       "window.__context = { glowscript_container: $(\"#glowscript\").removeAttr(\"id\")}"
      ],
      "text/plain": [
       "<IPython.core.display.Javascript object>"
      ]
     },
     "metadata": {},
     "output_type": "display_data"
    }
   ],
   "source": [
    "from vpython import *\n",
    "#create scene\n",
    "scene = canvas(title='3D scene')\n",
    "\n",
    "\n",
    "N = 3 # N by N by N array of atoms\n",
    "# Surrounding the N**3 atoms is another layer of invisible fixed-position atoms\n",
    "# that provide stability to the lattice.\n",
    "k = 1\n",
    "m = 1\n",
    "spacing = 1\n",
    "atom_radius = 0.3*spacing\n",
    "L0 = spacing-1.8*atom_radius\n",
    "V0 = pi*(0.5*atom_radius)**2*L0 # initial volume of spring\n",
    "scene.center = 0.5*(N-1)*vector(1,1,1)\n",
    "dt = 0.04*(2*pi*sqrt(m/k))\n",
    "axes = [vector(1,0,0), vector(0,1,0), vector(0,0,1)]\n",
    "\n",
    "#scene.caption= \"\"\"A model of a solid represented as atoms connected by interatomic bonds.\n",
    "#\n",
    "#Right button drag or Ctrl-drag to rotate \"camera\" to view scene.\n",
    "#To zoom, drag with middle button or Alt/Option depressed, or use scroll wheel.\n",
    "#  On a two-button mouse, middle is left + right.\n",
    "#Shift-drag to pan left/right and up/down.\n",
    "#Touch screen: pinch/extend to zoom, swipe or two-finger rotate.\"\"\"\n",
    "\n",
    "class crystal:\n",
    "        \n",
    "    def __init__(self,  N, atom_radius, spacing, momentumRange ):\n",
    "        self.atoms = []\n",
    "        self.springs = []\n",
    "        \n",
    "        # Create (N+2)^3 atoms in a grid; the outermost atoms are fixed and invisible\n",
    "        for z in range(-1,N+1,1):\n",
    "            for y in range(-1,N+1,1):\n",
    "                for x in range(-1,N+1,1):\n",
    "                    atom = sphere()\n",
    "                    atom.pos = vector(x,y,z)*spacing\n",
    "                    atom.radius = atom_radius\n",
    "                    atom.color = vector(0,0.58,0.69)\n",
    "                    if 0 <= x < N and 0 <= y < N and 0 <= z < N:\n",
    "                        p = vec.random()\n",
    "                        atom.momentum = momentumRange*p\n",
    "                    else:\n",
    "                        atom.visible = False\n",
    "                        atom.momentum = vec(0,0,0)\n",
    "                    atom.index = len(self.atoms)\n",
    "                    self.atoms.append( atom )\n",
    "        for atom in self.atoms:\n",
    "            if atom.visible:\n",
    "                if atom.pos.x == 0:\n",
    "                    self.make_spring(self.atoms[atom.index-1], atom, False)\n",
    "                    self.make_spring(atom, self.atoms[atom.index+1], True)\n",
    "                elif atom.pos.x == N-1:\n",
    "                    self.make_spring(atom, self.atoms[atom.index+1], False)\n",
    "                else:\n",
    "                    self.make_spring(atom, self.atoms[atom.index+1], True)\n",
    "\n",
    "                if atom.pos.y == 0:\n",
    "                    self.make_spring(self.atoms[atom.index-(N+2)], atom, False)\n",
    "                    self.make_spring(atom, self.atoms[atom.index+(N+2)], True)\n",
    "                elif atom.pos.y == N-1:\n",
    "                    self.make_spring(atom, self.atoms[atom.index+(N+2)], False)\n",
    "                else:\n",
    "                    self.make_spring(atom, self.atoms[atom.index+(N+2)], True)\n",
    "                    \n",
    "                if atom.pos.z == 0:\n",
    "                    self.make_spring(self.atoms[atom.index-(N+2)**2], atom, False)\n",
    "                    self.make_spring(atom, self.atoms[atom.index+(N+2)**2], True)\n",
    "                elif atom.pos.z == N-1:\n",
    "                    self.make_spring(atom, self.atoms[atom.index+(N+2)**2], False)\n",
    "                else:\n",
    "                    self.make_spring(atom, self.atoms[atom.index+(N+2)**2], True)\n",
    "    \n",
    "    # Create a grid of springs linking each atom to the adjacent atoms\n",
    "    # in each dimension, or to invisible motionless atoms\n",
    "    def make_spring(self, start, end, visible):\n",
    "        spring = helix()\n",
    "        spring.pos = start.pos\n",
    "        spring.axis = end.pos-start.pos\n",
    "        spring.visible = visible\n",
    "        spring.thickness = 0.05\n",
    "        spring.radius = 0.5*atom_radius\n",
    "        spring.length = spacing\n",
    "        spring.start = start\n",
    "        spring.end = end\n",
    "        spring.color = color.orange\n",
    "        self.springs.append(spring)\n",
    "\n",
    "c = crystal(N, atom_radius, spacing, 0.1*spacing*sqrt(k/m))\n",
    "\n",
    "while True:\n",
    "    rate(60)\n",
    "    for atom in c.atoms:\n",
    "        if atom.visible:\n",
    "            atom.pos = atom.pos + atom.momentum/m*dt\n",
    "    for spring in c.springs:\n",
    "        spring.axis = spring.end.pos - spring.start.pos\n",
    "        L = mag(spring.axis)\n",
    "        spring.axis = spring.axis.norm()\n",
    "        spring.pos = spring.start.pos+0.5*atom_radius*spring.axis\n",
    "        Ls = L-atom_radius\n",
    "        spring.length = Ls\n",
    "        Fdt = spring.axis * (k*dt * (1-spacing/L))\n",
    "        if spring.start.visible:\n",
    "            spring.start.momentum = spring.start.momentum + Fdt\n",
    "        if spring.end.visible:\n",
    "            spring.end.momentum = spring.end.momentum - Fdt\n"
   ]
  },
  {
   "cell_type": "code",
   "execution_count": null,
   "metadata": {},
   "outputs": [],
   "source": []
  }
 ],
 "metadata": {
  "kernelspec": {
   "display_name": "VPython",
   "language": "python",
   "name": "vpython"
  },
  "language_info": {
   "codemirror_mode": {
    "name": "ipython",
    "version": 3
   },
   "file_extension": ".py",
   "mimetype": "text/x-python",
   "name": "python",
   "nbconvert_exporter": "python",
   "pygments_lexer": "ipython3",
   "version": "3.6.3"
  }
 },
 "nbformat": 4,
 "nbformat_minor": 2
}
