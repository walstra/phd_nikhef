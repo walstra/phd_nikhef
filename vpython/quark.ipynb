{
 "cells": [
  {
   "cell_type": "code",
   "execution_count": 1,
   "metadata": {},
   "outputs": [
    {
     "data": {
      "application/javascript": [
       "require.undef(\"nbextensions/vpython_libraries/glow.min\");"
      ],
      "text/plain": [
       "<IPython.core.display.Javascript object>"
      ]
     },
     "metadata": {},
     "output_type": "display_data"
    },
    {
     "data": {
      "application/javascript": [
       "require.undef(\"nbextensions/vpython_libraries/glowcomm\");"
      ],
      "text/plain": [
       "<IPython.core.display.Javascript object>"
      ]
     },
     "metadata": {},
     "output_type": "display_data"
    },
    {
     "data": {
      "application/javascript": [
       "require.undef(\"nbextensions/vpython_libraries/jquery-ui.custom.min\");"
      ],
      "text/plain": [
       "<IPython.core.display.Javascript object>"
      ]
     },
     "metadata": {},
     "output_type": "display_data"
    },
    {
     "data": {
      "application/javascript": [
       "require([\"nbextensions/vpython_libraries/glow.min\"], function(){console.log(\"GLOW LOADED\");})"
      ],
      "text/plain": [
       "<IPython.core.display.Javascript object>"
      ]
     },
     "metadata": {},
     "output_type": "display_data"
    },
    {
     "data": {
      "application/javascript": [
       "require([\"nbextensions/vpython_libraries/glowcomm\"], function(){console.log(\"GLOWCOMM LOADED\");})"
      ],
      "text/plain": [
       "<IPython.core.display.Javascript object>"
      ]
     },
     "metadata": {},
     "output_type": "display_data"
    },
    {
     "data": {
      "application/javascript": [
       "require([\"nbextensions/vpython_libraries/jquery-ui.custom.min\"], function(){console.log(\"JQUERY LOADED\");})"
      ],
      "text/plain": [
       "<IPython.core.display.Javascript object>"
      ]
     },
     "metadata": {},
     "output_type": "display_data"
    },
    {
     "data": {
      "text/html": [
       "<div id=\"glowscript\" class=\"glowscript\"></div>"
      ],
      "text/plain": [
       "<IPython.core.display.HTML object>"
      ]
     },
     "metadata": {},
     "output_type": "display_data"
    },
    {
     "data": {
      "application/javascript": [
       "window.__context = { glowscript_container: $(\"#glowscript\").removeAttr(\"id\")}"
      ],
      "text/plain": [
       "<IPython.core.display.Javascript object>"
      ]
     },
     "metadata": {},
     "output_type": "display_data"
    },
    {
     "ename": "KeyboardInterrupt",
     "evalue": "",
     "output_type": "error",
     "traceback": [
      "\u001b[0;31m---------------------------------------------------------------------------\u001b[0m",
      "\u001b[0;31mKeyboardInterrupt\u001b[0m                         Traceback (most recent call last)",
      "\u001b[0;32m<ipython-input-1-930bbc19b912>\u001b[0m in \u001b[0;36m<module>\u001b[0;34m\u001b[0m\n\u001b[1;32m     34\u001b[0m     \u001b[0mrate\u001b[0m\u001b[0;34m(\u001b[0m\u001b[0;36m100\u001b[0m\u001b[0;34m)\u001b[0m\u001b[0;34m\u001b[0m\u001b[0m\n\u001b[1;32m     35\u001b[0m     \u001b[0;32mfor\u001b[0m \u001b[0mi\u001b[0m \u001b[0;32min\u001b[0m \u001b[0mrange\u001b[0m\u001b[0;34m(\u001b[0m\u001b[0mlen\u001b[0m\u001b[0;34m(\u001b[0m\u001b[0mq\u001b[0m\u001b[0;34m)\u001b[0m\u001b[0;34m)\u001b[0m\u001b[0;34m:\u001b[0m\u001b[0;34m\u001b[0m\u001b[0m\n\u001b[0;32m---> 36\u001b[0;31m         \u001b[0mq\u001b[0m\u001b[0;34m[\u001b[0m\u001b[0mi\u001b[0m\u001b[0;34m]\u001b[0m\u001b[0;34m.\u001b[0m\u001b[0mpos\u001b[0m\u001b[0;34m+=\u001b[0m\u001b[0mq\u001b[0m\u001b[0;34m[\u001b[0m\u001b[0mi\u001b[0m\u001b[0;34m]\u001b[0m\u001b[0;34m.\u001b[0m\u001b[0mv\u001b[0m\u001b[0;34m*\u001b[0m\u001b[0mdt\u001b[0m\u001b[0;34m\u001b[0m\u001b[0m\n\u001b[0m\u001b[1;32m     37\u001b[0m         \u001b[0;31m#mag(q[i]) is the magnitude of the vector\u001b[0m\u001b[0;34m\u001b[0m\u001b[0;34m\u001b[0m\u001b[0m\n\u001b[1;32m     38\u001b[0m         \u001b[0;31m#A.dot(B) is the scalar product of vectors A and B\u001b[0m\u001b[0;34m\u001b[0m\u001b[0;34m\u001b[0m\u001b[0m\n",
      "\u001b[0;31mKeyboardInterrupt\u001b[0m: "
     ]
    }
   ],
   "source": [
    "from vpython import *\n",
    "import numpy.random as random\n",
    "\n",
    "def quark(type='up',color=color.red,pos=vec(random.random()-0.5,random.random()-0.5,random.random()-0.5)):\n",
    "    if (type == 'up'):\n",
    "        myaxis=vec(0.2,0,0)\n",
    "    else:\n",
    "        myaxis=vec(-0.2,0,0)\n",
    "    myarrow=cone(radius=0.1,axis=myaxis,color=color)\n",
    "    mysphere=sphere(radius=0.1,color=color,opacity=0.5)\n",
    "    myquark=compound([myarrow,mysphere]) #compound groups objects into one object\n",
    "    myquark.pos=pos\n",
    "    myquark.v=0.25*vec(random.random()-0.5,random.random()-0.5,random.random()-0.5)\n",
    "    myquark.radius=mysphere.radius\n",
    "    myquark.axis=vec(0,1,0)\n",
    "    myquark.type=type\n",
    "    return myquark\n",
    "\n",
    "neutron=sphere(opacity=0.3)\n",
    "q=[]\n",
    "q.append(quark(type='up',color=color.red))\n",
    "q.append(quark(type='down',color=color.blue))\n",
    "q.append(quark(type='down',color=color.green))\n",
    "\n",
    "dt=0.2\n",
    "tmax=1500\n",
    "t=0\n",
    "tau=881.5\n",
    "mytext = label(text='t=0.0', align='center', color=color.green,pos=vec(-2.0,1.5,0),height=20,box=False)\n",
    "scene.autoscale=0\n",
    "\n",
    "isDecayed=False\n",
    "while (t<tmax):\n",
    "    rate(100)\n",
    "    for i in range(len(q)):\n",
    "        q[i].pos+=q[i].v*dt\n",
    "        #mag(q[i]) is the magnitude of the vector\n",
    "        #A.dot(B) is the scalar product of vectors A and B\n",
    "        vout=q[i].pos.dot(q[i].v)/mag(q[i].pos)\n",
    "        if (mag(q[i].pos) > 1-q[0].radius) and (vout > 0) and (q[i].type != 'lepton'):\n",
    "            # Bounce\n",
    "            q[i].v=q[i].v-2*vout*q[i].pos/mag(q[i].pos)\n",
    "    # Do we decay:\n",
    "    if (isDecayed == False) and (random.random() < dt/tau):\n",
    "        print(\"decay!\",t)\n",
    "        isDecayed=True\n",
    "        mytext.color=color.red\n",
    "        neutron.color=vec(1,0.8,0.8)\n",
    "        q[2].axis=-q[2].axis\n",
    "        nhat=vec(random.random(),random.random(),random.random())\n",
    "        nhat=nhat/mag(nhat)\n",
    "        v0=0.02\n",
    "        q.append(sphere(radius=0.05,pos=q[2].pos,v=v0*nhat,type='lepton'))\n",
    "        q.append(sphere(radius=0.05,pos=q[2].pos,v=-v0*nhat,type='lepton'))\n",
    "    t+=dt\n",
    "    if (isDecayed==False):\n",
    "        mytext.text='t='+str(round(t,1))"
   ]
  },
  {
   "cell_type": "code",
   "execution_count": null,
   "metadata": {},
   "outputs": [],
   "source": []
  },
  {
   "cell_type": "code",
   "execution_count": null,
   "metadata": {},
   "outputs": [],
   "source": []
  }
 ],
 "metadata": {
  "kernelspec": {
   "display_name": "VPython",
   "language": "python",
   "name": "vpython"
  },
  "language_info": {
   "codemirror_mode": {
    "name": "ipython",
    "version": 3
   },
   "file_extension": ".py",
   "mimetype": "text/x-python",
   "name": "python",
   "nbconvert_exporter": "python",
   "pygments_lexer": "ipython3",
   "version": "3.6.3"
  }
 },
 "nbformat": 4,
 "nbformat_minor": 2
}
