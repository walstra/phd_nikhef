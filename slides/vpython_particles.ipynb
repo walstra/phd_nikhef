{
 "cells": [
  {
   "cell_type": "code",
   "execution_count": null,
   "metadata": {},
   "outputs": [
    {
     "data": {
      "application/javascript": [
       "require.undef(\"nbextensions/vpython_libraries/glow.min\");"
      ],
      "text/plain": [
       "<IPython.core.display.Javascript object>"
      ]
     },
     "metadata": {},
     "output_type": "display_data"
    },
    {
     "data": {
      "application/javascript": [
       "require.undef(\"nbextensions/vpython_libraries/glowcomm\");"
      ],
      "text/plain": [
       "<IPython.core.display.Javascript object>"
      ]
     },
     "metadata": {},
     "output_type": "display_data"
    },
    {
     "data": {
      "application/javascript": [
       "require.undef(\"nbextensions/vpython_libraries/jquery-ui.custom.min\");"
      ],
      "text/plain": [
       "<IPython.core.display.Javascript object>"
      ]
     },
     "metadata": {},
     "output_type": "display_data"
    },
    {
     "data": {
      "application/javascript": [
       "require([\"nbextensions/vpython_libraries/glow.min\"], function(){console.log(\"GLOW LOADED\");})"
      ],
      "text/plain": [
       "<IPython.core.display.Javascript object>"
      ]
     },
     "metadata": {},
     "output_type": "display_data"
    },
    {
     "data": {
      "application/javascript": [
       "require([\"nbextensions/vpython_libraries/glowcomm\"], function(){console.log(\"GLOWCOMM LOADED\");})"
      ],
      "text/plain": [
       "<IPython.core.display.Javascript object>"
      ]
     },
     "metadata": {},
     "output_type": "display_data"
    },
    {
     "data": {
      "application/javascript": [
       "require([\"nbextensions/vpython_libraries/jquery-ui.custom.min\"], function(){console.log(\"JQUERY LOADED\");})"
      ],
      "text/plain": [
       "<IPython.core.display.Javascript object>"
      ]
     },
     "metadata": {},
     "output_type": "display_data"
    },
    {
     "data": {
      "text/html": [
       "<div id=\"glowscript\" class=\"glowscript\"></div>"
      ],
      "text/plain": [
       "<IPython.core.display.HTML object>"
      ]
     },
     "metadata": {},
     "output_type": "display_data"
    },
    {
     "data": {
      "application/javascript": [
       "window.__context = { glowscript_container: $(\"#glowscript\").removeAttr(\"id\")}"
      ],
      "text/plain": [
       "<IPython.core.display.Javascript object>"
      ]
     },
     "metadata": {},
     "output_type": "display_data"
    }
   ],
   "source": [
    "\n",
    "# Speed distribution of an ideal gas (molecular dynamics)\n",
    "# With classical physics\n",
    "# ---- gandreoliva.org ----\n",
    "\n",
    "from vpython import *\n",
    "\n",
    "# With plain classical mechanics\n",
    "\n",
    "scene.center = vec(0.5,0.5,0.5)\n",
    "scene.range = 1\n",
    "L = 1\n",
    "R = 0.03\n",
    "T = 300 # <---- TEMPERATURE\n",
    "dt = 2*1e-5\n",
    "t = 0\n",
    "kB = 1.4E-23\n",
    "He_mass = 4E-3/6E23\n",
    "\n",
    "# Average momentum of the particles (equipartition theorem)\n",
    "pavg = sqrt(2*He_mass*1.5*kB*T) # p**2/(2m) = (3/2)*kB*T\n",
    "\n",
    "outer_box = box(pos=vec(L/2.,L/2.,L/2.),size=vec(L,L,L),opacity=0.2)\n",
    "\n",
    "# Detection and handling of collisions with the walls\n",
    "def detect_handle_collision_wall(particle):\n",
    "    # we check for velocity. Has the particle collided yet?\n",
    "    if (particle.pos.x - particle.radius) < 0 and particle.vel.x < 0:\n",
    "        particle.vel.x *=-1\n",
    "    if (particle.pos.x + particle.radius) > L and particle.vel.x > 0:\n",
    "        particle.vel.x *= -1\n",
    "    if (particle.pos.y - particle.radius) < 0 and particle.vel.y < 0:\n",
    "        particle.vel.y *=-1\n",
    "    if (particle.pos.y + particle.radius) > L and particle.vel.y > 0:\n",
    "        particle.vel.y *= -1\n",
    "    if (particle.pos.z - particle.radius) < 0 and particle.vel.z < 0:\n",
    "        particle.vel.z *= -1\n",
    "    if (particle.pos.z + particle.radius) > L and particle.vel.z > 0:\n",
    "        particle.vel.z *= -1\n",
    "\n",
    "\n",
    "def handle_collision_pair(particle1,particle2):\n",
    "    \"\"\"\n",
    "    Collision of hard spheres. Based on conservation of kinetic\n",
    "    energy and momentum. Described in {W Krauth 2006 Statistical\n",
    "    Mechanics: Algorithms and Computations, S 2.1.1}\n",
    "\n",
    "    Warning: masses of particle1 and particle2 must be the same.\n",
    "\n",
    "    The basic idea is: one may decompose the velocity vector in\n",
    "    parallel and perpendicular components (with respect to the\n",
    "    tangent plane that contains the contact point). Momentum is\n",
    "    exchanged only in the perpendicular direction. In that\n",
    "    direction, conservation of kinetic energy and momentum imply\n",
    "    that the particles exchange their velocities\n",
    "    (v1f = v2i; v2f = v2i), which can also be viewed as\n",
    "    v1f = v1i + -(v1i-v2i)\n",
    "    v2f = v2i + (v1i-v2i)\n",
    "    \"\"\"\n",
    "    dx = particle1.pos - particle2.pos\n",
    "    eperp = dx/mag(dx)\n",
    "    dv = particle1.vel - particle2.vel\n",
    "\n",
    "    particle1.vel += -eperp*(dv.dot(eperp))\n",
    "    particle2.vel += eperp*(dv.dot(eperp))\n",
    "\n",
    "def generate_random_p(pavg):\n",
    "    # Actually, the initial state doesn't matter.\n",
    "    # Equilibrium should be reached anyways.\n",
    "    theta = pi*random()\n",
    "    phi = 2*pi*random()\n",
    "    px = pavg*sin(theta)*cos(phi)\n",
    "    py = pavg*sin(theta)*sin(phi)\n",
    "    pz = pavg*cos(theta)\n",
    "    return vec(px,py,pz)\n",
    "\n",
    "def random_uniform(a,b):\n",
    "    return a+(b-a)*random()\n",
    "\n",
    "# NUMBER OF PARTICLES\n",
    "Num_particles = 100\n",
    "\n",
    "particles = []\n",
    "for i in range(Num_particles):\n",
    "    particles.append(sphere(radius=R,\n",
    "                            pos=vec(random_uniform(0.0+R,L/2-R),random_uniform(0.0+R,L-R),random_uniform(0.0+R,L-R)),\\\n",
    "                            # PRUEBE colocar una velocidad constante, ej: vel(200,0,0)\n",
    "                            vel=generate_random_p(pavg)/He_mass,\\\n",
    "                            mass=He_mass\\\n",
    "                            ))\n",
    "\n",
    "# Histogram\n",
    "start = 0\n",
    "end = 3000\n",
    "bin_size = 100\n",
    "nbins = (end-start)//100\n",
    "gg = graph( width=500, height=0.4*500, xmax=3000, xtitle='speed, m/s', ytitle='Number of atoms', ymax=0.2*Num_particles)\n",
    "histogram = gvbars(delta=bin_size)\n",
    "data = []\n",
    "ticker = 0\n",
    "# Theoretical curve\n",
    "dv = 10\n",
    "\n",
    "# THEORETICAL PREDICTION: BOLTZMANN DISTRIBUTION\n",
    "theory = gcurve( color=color.blue )\n",
    "for v in range(0,3001+dv,dv):\n",
    "    theory.plot( v, (bin_size/dv)*Num_particles*4*pi*((He_mass/(2*pi*kB*T))**1.5) *exp(-0.5*He_mass*(v**2)/(kB*T))*(v**2)*dv )\n",
    "\n",
    "\n",
    "# MAIN SIMULATION\n",
    "scene.waitfor(\"click\")\n",
    "while True:\n",
    "    rate(25)\n",
    "    for i,particle in enumerate(particles):\n",
    "        # NEWTON'S LAWS\n",
    "        particle.pos += particle.vel*dt\n",
    "\n",
    "        # Collisions with the walls\n",
    "        detect_handle_collision_wall(particle)\n",
    "\n",
    "        # Collisions of this particle with others\n",
    "        others = list(particles)\n",
    "        for j in range(i): # This is to avoid double counting (i<j)\n",
    "            other = others[j]\n",
    "            dist = mag(particle.pos-other.pos)\n",
    "            if dist < 2*R:\n",
    "                handle_collision_pair(particle,other)\n",
    "\n",
    "    # Histogram\n",
    "    ticker += 1\n",
    "    if ticker > 25: #Makes the refresh rate of the histogram slower\n",
    "        ticker = 0\n",
    "        histogram.delete()\n",
    "        for k in range(nbins):\n",
    "            bin_tot = 0\n",
    "            for particle in particles:\n",
    "                speed = mag(particle.vel)\n",
    "                if speed > k*bin_size and speed < (k+1)*bin_size:\n",
    "                    bin_tot += 1\n",
    "            histogram.plot(k*bin_size,bin_tot)\n"
   ]
  },
  {
   "cell_type": "code",
   "execution_count": null,
   "metadata": {},
   "outputs": [],
   "source": []
  }
 ],
 "metadata": {
  "kernelspec": {
   "display_name": "Python 3",
   "language": "python",
   "name": "python3"
  },
  "language_info": {
   "codemirror_mode": {
    "name": "ipython",
    "version": 3
   },
   "file_extension": ".py",
   "mimetype": "text/x-python",
   "name": "python",
   "nbconvert_exporter": "python",
   "pygments_lexer": "ipython3",
   "version": "3.6.3"
  }
 },
 "nbformat": 4,
 "nbformat_minor": 2
}
